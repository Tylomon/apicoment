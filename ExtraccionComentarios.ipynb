{
 "cells": [
  {
   "cell_type": "markdown",
   "id": "wanted-indicator",
   "metadata": {},
   "source": [
    "# Extraccion de datos: Comentarios"
   ]
  },
  {
   "cell_type": "markdown",
   "id": "medium-render",
   "metadata": {},
   "source": [
    "A continuacion se presentan las lineas de codigo usadas, para la extraccion de datos, en particular se requieren los comentarios de los usuarios presentados a la aplicación  de  en la playstore [Miclaro](https://play.google.com/store/apps/details?id=com.clarocolombia.miclaro&hl=es_CO&gl=US&showAllReviews=true).\n",
    "\n",
    "La libreria que nos permitirá la extraccion, se llama [Google Play scraper](https://github.com/JoMingyu/google-play-scraper)\n"
   ]
  },
  {
   "cell_type": "code",
   "execution_count": 1,
   "id": "effective-compensation",
   "metadata": {},
   "outputs": [],
   "source": [
    "#Se realiza la extraccion de los datos de la aplicacion, toda la informacion sera almacenada en una Variable\n",
    "from google_play_scraper import app\n",
    "result = app(\n",
    "    'com.clarocolombia.miclaro',\n",
    "    lang='es', \n",
    "    country='co' \n",
    ")"
   ]
  },
  {
   "cell_type": "code",
   "execution_count": 2,
   "id": "visible-fleet",
   "metadata": {},
   "outputs": [],
   "source": [
    "# Visualizacion del contenido\n",
    "# print(result) \n"
   ]
  },
  {
   "cell_type": "code",
   "execution_count": 5,
   "id": "contrary-audio",
   "metadata": {},
   "outputs": [
    {
     "data": {
      "text/plain": [
       "['Muy poco útil la app, presenta muchas fallas, se cierra sola, super difil iniciar sesión, dice que tengo abierta otra sesión y se cierra, cuando no es verdad, debe ser óptima para lo que supuestamente esta programada',\n",
       " 'Buenas creo que no es necesario solicitar tanta actualización de la app siempre que voy a ingresar nunca puedo ver o realizar lo que quiero, siempre están trabajando para brindarnos lo mejor y cada día es peor, que tanta actualización solicitan con una vez que se instale debería ser suficiente... Muchas gracias y resuelvan pronto somos lo mejor de su empresa sin nosotros no son nadie ya que somos sus usuarios y como tal merecemos respeto con sus servicios.... Gracias',\n",
       " 'Cómo les voy a enviar pantallazo si se cierra automáticamente la intento abrir... Revisen que está pasando para equipos android más bien.',\n",
       " 'Mi teléfono, ayer se descargó totalmente. Al cargarlo totalmente, y al encenderlo nuevamente, duró como 15 mnts comprobando el sistema. Y cuando retornó a pantalla de inicio, lo que tenía mal, se arregló. La red, el internet, el teléfono y las apps: están funcionando bien, menos la app de: Claro.',\n",
       " 'La verdad es muy fastidioso y complicado que se actualicé tan seguido ésta aplicación, y lo peor, si no la actualiza uno no la puede usar. Le falta dinámica a la interfaz con el usuario y eso la hace muy monótona, sin contar que es malo tanta actulizadera. Que mamera de app, el pasado mes de Junio me tocó actualizar ésta app, y hoy 15 de Julio de este mismo año(2021), hay que volver a actualizar, en menos de un mes otra actualización. Realmente es una porquería. Y hay que registrar de nuevo.']"
      ]
     },
     "execution_count": 5,
     "metadata": {},
     "output_type": "execute_result"
    }
   ],
   "source": [
    "#La variable resultados es un dicciona\n",
    "comentarios=result['comments']\n",
    "comentarios[0:5]"
   ]
  },
  {
   "cell_type": "code",
   "execution_count": 6,
   "id": "expensive-fifty",
   "metadata": {},
   "outputs": [
    {
     "name": "stdout",
     "output_type": "stream",
     "text": [
      "Archivo CSV Creado\n"
     ]
    }
   ],
   "source": [
    "import csv\n",
    "archivocsv = open('comentarios.csv', 'w')\n",
    "with archivocsv:\n",
    "    writer = csv.writer(archivocsv,delimiter =\",\")\n",
    "    writer.writerow(['Comentarios extraidos,'])\n",
    "    for i in range(len(comentarios)):        \n",
    "        try:\n",
    "            writer.writerow([str(comentarios[i])+'\",'])\n",
    "        except:\n",
    "            writer.writerow([str(comentarios[i]+'\",').encode(\"utf-8\")])\n",
    "print(\"Archivo CSV Creado\")"
   ]
  }
 ],
 "metadata": {
  "kernelspec": {
   "display_name": "Python 3",
   "language": "python",
   "name": "python3"
  },
  "language_info": {
   "codemirror_mode": {
    "name": "ipython",
    "version": 3
   },
   "file_extension": ".py",
   "mimetype": "text/x-python",
   "name": "python",
   "nbconvert_exporter": "python",
   "pygments_lexer": "ipython3",
   "version": "3.8.5"
  }
 },
 "nbformat": 4,
 "nbformat_minor": 5
}
