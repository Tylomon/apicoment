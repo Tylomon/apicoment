{
 "cells": [
  {
   "cell_type": "markdown",
   "id": "impressive-parker",
   "metadata": {},
   "source": [
    "# NLP y valoracion de Comentarios\n",
    "Para la evaluación de los diferentes comentarios se hara uso de la libreria *PANDAS* para control de datos, en conjunto con la libreria *Textblob*.\n",
    "Se tomo como referencia el ejercicio presentado en [[1]](https://www.aprendemachinelearning.com/ejercicio-nlp-cuentos-de-hernan-casciari-python-espanol/), ademas de extraer algunos fragmentos de código alli presentados.\n",
    "\n",
    "El esquema de trabajo a seguir corresponde a cargar los datos de los comentarios previamente almacenados en un archivo .csv, realizar una transcion de los mismos a un dataframe o arreglo pandas, y finalmente realizar NLP mediante los comandos proporcionados por la libreria *TextBlob*.\n"
   ]
  },
  {
   "cell_type": "code",
   "execution_count": 1,
   "id": "corrected-enemy",
   "metadata": {},
   "outputs": [],
   "source": [
    "#Se importan las librerias\n",
    "import numpy as np\n",
    "import pandas as pd\n",
    "# Librerias Necesarias para trabajo y cadenas de texto\n",
    "import re\n",
    "import string\n"
   ]
  },
  {
   "cell_type": "code",
   "execution_count": 2,
   "id": "living-glossary",
   "metadata": {},
   "outputs": [
    {
     "data": {
      "text/html": [
       "<div>\n",
       "<style scoped>\n",
       "    .dataframe tbody tr th:only-of-type {\n",
       "        vertical-align: middle;\n",
       "    }\n",
       "\n",
       "    .dataframe tbody tr th {\n",
       "        vertical-align: top;\n",
       "    }\n",
       "\n",
       "    .dataframe thead th {\n",
       "        text-align: right;\n",
       "    }\n",
       "</style>\n",
       "<table border=\"1\" class=\"dataframe\">\n",
       "  <thead>\n",
       "    <tr style=\"text-align: right;\">\n",
       "      <th></th>\n",
       "      <th>Comentarios extraidos,</th>\n",
       "    </tr>\n",
       "  </thead>\n",
       "  <tbody>\n",
       "    <tr>\n",
       "      <th>0</th>\n",
       "      <td>Muy poco �til la app, presenta muchas fallas, ...</td>\n",
       "    </tr>\n",
       "    <tr>\n",
       "      <th>1</th>\n",
       "      <td>Buenas creo que no es necesario solicitar tant...</td>\n",
       "    </tr>\n",
       "    <tr>\n",
       "      <th>2</th>\n",
       "      <td>C�mo les voy a enviar pantallazo si se cierra ...</td>\n",
       "    </tr>\n",
       "    <tr>\n",
       "      <th>3</th>\n",
       "      <td>Mi tel�fono, ayer se descarg� totalmente. Al c...</td>\n",
       "    </tr>\n",
       "    <tr>\n",
       "      <th>4</th>\n",
       "      <td>La verdad es muy fastidioso y complicado que s...</td>\n",
       "    </tr>\n",
       "  </tbody>\n",
       "</table>\n",
       "</div>"
      ],
      "text/plain": [
       "                              Comentarios extraidos,\n",
       "0  Muy poco �til la app, presenta muchas fallas, ...\n",
       "1  Buenas creo que no es necesario solicitar tant...\n",
       "2  C�mo les voy a enviar pantallazo si se cierra ...\n",
       "3  Mi tel�fono, ayer se descarg� totalmente. Al c...\n",
       "4  La verdad es muy fastidioso y complicado que s..."
      ]
     },
     "execution_count": 2,
     "metadata": {},
     "output_type": "execute_result"
    }
   ],
   "source": [
    "#Lectura del archivo CSV\n",
    "datos=pd.read_csv('comentarios.csv',sep='\\n')\n",
    "datos.head()#Visualizamos que se hallan cargado correctamente"
   ]
  },
  {
   "cell_type": "markdown",
   "id": "paperback-formation",
   "metadata": {},
   "source": [
    "Ahora se realiza la transcion a un Dataframe de pandas, este proceso se reliza para poder aplicar comandos de NLP con mayor facilidad"
   ]
  },
  {
   "cell_type": "code",
   "execution_count": 3,
   "id": "unnecessary-confusion",
   "metadata": {},
   "outputs": [
    {
     "data": {
      "text/html": [
       "<div>\n",
       "<style scoped>\n",
       "    .dataframe tbody tr th:only-of-type {\n",
       "        vertical-align: middle;\n",
       "    }\n",
       "\n",
       "    .dataframe tbody tr th {\n",
       "        vertical-align: top;\n",
       "    }\n",
       "\n",
       "    .dataframe thead th {\n",
       "        text-align: right;\n",
       "    }\n",
       "</style>\n",
       "<table border=\"1\" class=\"dataframe\">\n",
       "  <thead>\n",
       "    <tr style=\"text-align: right;\">\n",
       "      <th></th>\n",
       "      <th>transcript</th>\n",
       "    </tr>\n",
       "  </thead>\n",
       "  <tbody>\n",
       "    <tr>\n",
       "      <th>0</th>\n",
       "      <td>Muy poco �til la app, presenta muchas fallas, ...</td>\n",
       "    </tr>\n",
       "    <tr>\n",
       "      <th>1</th>\n",
       "      <td>Buenas creo que no es necesario solicitar tant...</td>\n",
       "    </tr>\n",
       "    <tr>\n",
       "      <th>2</th>\n",
       "      <td>C�mo les voy a enviar pantallazo si se cierra ...</td>\n",
       "    </tr>\n",
       "    <tr>\n",
       "      <th>3</th>\n",
       "      <td>Mi tel�fono, ayer se descarg� totalmente. Al c...</td>\n",
       "    </tr>\n",
       "    <tr>\n",
       "      <th>4</th>\n",
       "      <td>La verdad es muy fastidioso y complicado que s...</td>\n",
       "    </tr>\n",
       "  </tbody>\n",
       "</table>\n",
       "</div>"
      ],
      "text/plain": [
       "                                          transcript\n",
       "0  Muy poco �til la app, presenta muchas fallas, ...\n",
       "1  Buenas creo que no es necesario solicitar tant...\n",
       "2  C�mo les voy a enviar pantallazo si se cierra ...\n",
       "3  Mi tel�fono, ayer se descarg� totalmente. Al c...\n",
       "4  La verdad es muy fastidioso y complicado que s..."
      ]
     },
     "execution_count": 3,
     "metadata": {},
     "output_type": "execute_result"
    }
   ],
   "source": [
    "#Transicion a dataframe\n",
    "data_df = pd.DataFrame.from_dict(datos)\n",
    "data_df.columns = ['transcript'] #La columna con informacion se titulará 'transcript'\n",
    "data_df = data_df.sort_index()#organizacion or indices\n",
    "data_df.head()"
   ]
  },
  {
   "cell_type": "markdown",
   "id": "valid-summit",
   "metadata": {},
   "source": [
    "Una vez cargados los datos se realiza una limpieza del texto y de caracteres especiales, "
   ]
  },
  {
   "cell_type": "code",
   "execution_count": 4,
   "id": "floating-knowing",
   "metadata": {},
   "outputs": [],
   "source": [
    "#Funcion para Limpieza de Texto\n",
    "def clean_text_round1(text):\n",
    "    '''Make text lowercase, remove text in square brackets, remove punctuation and remove words containing numbers.'''\n",
    "    text = text.lower()\n",
    "    text = re.sub('\\[.*?¿\\]\\%', ' ', text)\n",
    "    text = re.sub('[%s]' % re.escape(string.punctuation), ' ', text)\n",
    "    text = re.sub('\\w*\\d\\w*', '', text)\n",
    "    return text\n"
   ]
  },
  {
   "cell_type": "code",
   "execution_count": 5,
   "id": "injured-benchmark",
   "metadata": {},
   "outputs": [],
   "source": [
    "round1 = lambda x: clean_text_round1(x)"
   ]
  },
  {
   "cell_type": "code",
   "execution_count": 6,
   "id": "fabulous-humanity",
   "metadata": {},
   "outputs": [
    {
     "data": {
      "text/html": [
       "<div>\n",
       "<style scoped>\n",
       "    .dataframe tbody tr th:only-of-type {\n",
       "        vertical-align: middle;\n",
       "    }\n",
       "\n",
       "    .dataframe tbody tr th {\n",
       "        vertical-align: top;\n",
       "    }\n",
       "\n",
       "    .dataframe thead th {\n",
       "        text-align: right;\n",
       "    }\n",
       "</style>\n",
       "<table border=\"1\" class=\"dataframe\">\n",
       "  <thead>\n",
       "    <tr style=\"text-align: right;\">\n",
       "      <th></th>\n",
       "      <th>transcript</th>\n",
       "    </tr>\n",
       "  </thead>\n",
       "  <tbody>\n",
       "    <tr>\n",
       "      <th>0</th>\n",
       "      <td>muy poco �til la app  presenta muchas fallas  ...</td>\n",
       "    </tr>\n",
       "    <tr>\n",
       "      <th>1</th>\n",
       "      <td>buenas creo que no es necesario solicitar tant...</td>\n",
       "    </tr>\n",
       "    <tr>\n",
       "      <th>2</th>\n",
       "      <td>c�mo les voy a enviar pantallazo si se cierra ...</td>\n",
       "    </tr>\n",
       "    <tr>\n",
       "      <th>3</th>\n",
       "      <td>mi tel�fono  ayer se descarg� totalmente  al c...</td>\n",
       "    </tr>\n",
       "    <tr>\n",
       "      <th>4</th>\n",
       "      <td>la verdad es muy fastidioso y complicado que s...</td>\n",
       "    </tr>\n",
       "  </tbody>\n",
       "</table>\n",
       "</div>"
      ],
      "text/plain": [
       "                                          transcript\n",
       "0  muy poco �til la app  presenta muchas fallas  ...\n",
       "1  buenas creo que no es necesario solicitar tant...\n",
       "2  c�mo les voy a enviar pantallazo si se cierra ...\n",
       "3  mi tel�fono  ayer se descarg� totalmente  al c...\n",
       "4  la verdad es muy fastidioso y complicado que s..."
      ]
     },
     "execution_count": 6,
     "metadata": {},
     "output_type": "execute_result"
    }
   ],
   "source": [
    "data = pd.DataFrame(data_df.transcript.apply(round1))\n",
    "data.head()"
   ]
  },
  {
   "cell_type": "markdown",
   "id": "fantastic-establishment",
   "metadata": {},
   "source": [
    "A continuacion se aplicará TextBlob, la libreria provee el concepto de Polaridad(Parametro entregado entre -1 y 1) usado para evaluar satisfaccion asociadad a sentimientos, y subjetividad(Parametro entregado entre 0 y 1) asociado a que tan diciente u objetivo es un texto.\n",
    "\n",
    "Ademas es importante mencionar que el analisis de texto funciona unicamente para contenido en ingles, asi que tambien debe aplicarse una traducion, que es provista tambien a traves de la libreria textblob."
   ]
  },
  {
   "cell_type": "code",
   "execution_count": 7,
   "id": "bearing-margin",
   "metadata": {},
   "outputs": [],
   "source": [
    "#Definiciones lambda para textblob\n",
    "from textblob import TextBlob\n",
    "pol = lambda x: TextBlob(x).sentiment.polarity\n",
    "pol2 = lambda x: x.sentiment.polarity\n",
    "sub = lambda x: TextBlob(x).sentiment.subjectivity\n",
    "sub2 = lambda x: x.sentiment.subjectivity\n",
    "traducir = lambda x: TextBlob(x).translate(to=\"en\")"
   ]
  },
  {
   "cell_type": "code",
   "execution_count": 8,
   "id": "willing-synthesis",
   "metadata": {},
   "outputs": [],
   "source": [
    "#Se crea una Nueva Columna que contendra la traduccion del texto\n",
    "data['blob_en'] = data['transcript'].apply(traducir)\n",
    "#Se crea una Nueva Columna que contendra el resultado numerico del parametro polaridad\n",
    "data['polarity'] = data['blob_en'].apply(pol2)\n",
    "#Se crea una Nueva Columna que contendra el resultado numerico del parametro subjetividad\n",
    "data['subjectivity'] = data['blob_en'].apply(sub2)"
   ]
  },
  {
   "cell_type": "code",
   "execution_count": 9,
   "id": "completed-attachment",
   "metadata": {},
   "outputs": [
    {
     "data": {
      "text/html": [
       "<div>\n",
       "<style scoped>\n",
       "    .dataframe tbody tr th:only-of-type {\n",
       "        vertical-align: middle;\n",
       "    }\n",
       "\n",
       "    .dataframe tbody tr th {\n",
       "        vertical-align: top;\n",
       "    }\n",
       "\n",
       "    .dataframe thead th {\n",
       "        text-align: right;\n",
       "    }\n",
       "</style>\n",
       "<table border=\"1\" class=\"dataframe\">\n",
       "  <thead>\n",
       "    <tr style=\"text-align: right;\">\n",
       "      <th></th>\n",
       "      <th>transcript</th>\n",
       "      <th>blob_en</th>\n",
       "      <th>polarity</th>\n",
       "      <th>subjectivity</th>\n",
       "    </tr>\n",
       "  </thead>\n",
       "  <tbody>\n",
       "    <tr>\n",
       "      <th>0</th>\n",
       "      <td>muy poco �til la app  presenta muchas fallas  ...</td>\n",
       "      <td>(v, e, r, y,  , u, n, h, e, l, p, f, u, l,  , ...</td>\n",
       "      <td>0.059722</td>\n",
       "      <td>0.602778</td>\n",
       "    </tr>\n",
       "    <tr>\n",
       "      <th>1</th>\n",
       "      <td>buenas creo que no es necesario solicitar tant...</td>\n",
       "      <td>(g, o, o, d,  , I,  , t, h, i, n, k,  , i, t, ...</td>\n",
       "      <td>0.326000</td>\n",
       "      <td>0.476000</td>\n",
       "    </tr>\n",
       "    <tr>\n",
       "      <th>2</th>\n",
       "      <td>c�mo les voy a enviar pantallazo si se cierra ...</td>\n",
       "      <td>(H, o, w,  , a, m,  , I,  , g, o, i, n, g,  , ...</td>\n",
       "      <td>0.000000</td>\n",
       "      <td>0.500000</td>\n",
       "    </tr>\n",
       "    <tr>\n",
       "      <th>3</th>\n",
       "      <td>mi tel�fono  ayer se descarg� totalmente  al c...</td>\n",
       "      <td>(Y, e, s, t, e, r, d, a, y,  , m, y,  , p, h, ...</td>\n",
       "      <td>-0.100000</td>\n",
       "      <td>0.500000</td>\n",
       "    </tr>\n",
       "    <tr>\n",
       "      <th>4</th>\n",
       "      <td>la verdad es muy fastidioso y complicado que s...</td>\n",
       "      <td>(T, h, e,  , t, r, u, t, h,  , i, s,  , t, h, ...</td>\n",
       "      <td>-0.316667</td>\n",
       "      <td>0.570000</td>\n",
       "    </tr>\n",
       "  </tbody>\n",
       "</table>\n",
       "</div>"
      ],
      "text/plain": [
       "                                          transcript  \\\n",
       "0  muy poco �til la app  presenta muchas fallas  ...   \n",
       "1  buenas creo que no es necesario solicitar tant...   \n",
       "2  c�mo les voy a enviar pantallazo si se cierra ...   \n",
       "3  mi tel�fono  ayer se descarg� totalmente  al c...   \n",
       "4  la verdad es muy fastidioso y complicado que s...   \n",
       "\n",
       "                                             blob_en  polarity  subjectivity  \n",
       "0  (v, e, r, y,  , u, n, h, e, l, p, f, u, l,  , ...  0.059722      0.602778  \n",
       "1  (g, o, o, d,  , I,  , t, h, i, n, k,  , i, t, ...  0.326000      0.476000  \n",
       "2  (H, o, w,  , a, m,  , I,  , g, o, i, n, g,  , ...  0.000000      0.500000  \n",
       "3  (Y, e, s, t, e, r, d, a, y,  , m, y,  , p, h, ... -0.100000      0.500000  \n",
       "4  (T, h, e,  , t, r, u, t, h,  , i, s,  , t, h, ... -0.316667      0.570000  "
      ]
     },
     "execution_count": 9,
     "metadata": {},
     "output_type": "execute_result"
    }
   ],
   "source": [
    "data.head()"
   ]
  },
  {
   "cell_type": "markdown",
   "id": "corporate-wells",
   "metadata": {},
   "source": [
    "Para la evaluacion de la experiencia de usuario, pueden tomarse los valores numericos contenidos en polaridad, subjetividad o ambos. A continuacion se hara uso de la columna polaridad y en base a ella se realiza la asigancacion de una valoracion : *Positiva, Negativa*  ademas de una asignacion aproximada de estrellas de calificacion.\n",
    "Un ciclo iterativo evalua individualmente los componentes del arreglo y asigna los valores a dos nuevas columnas."
   ]
  },
  {
   "cell_type": "code",
   "execution_count": 10,
   "id": "mediterranean-complaint",
   "metadata": {},
   "outputs": [],
   "source": [
    "data['Calif']=0\n",
    "data['Stars']=0"
   ]
  },
  {
   "cell_type": "code",
   "execution_count": 11,
   "id": "defensive-karma",
   "metadata": {},
   "outputs": [
    {
     "name": "stderr",
     "output_type": "stream",
     "text": [
      "<ipython-input-11-4722efc15cd7>:10: SettingWithCopyWarning: \n",
      "A value is trying to be set on a copy of a slice from a DataFrame\n",
      "\n",
      "See the caveats in the documentation: https://pandas.pydata.org/pandas-docs/stable/user_guide/indexing.html#returning-a-view-versus-a-copy\n",
      "  data.Calif[i] = 'Negativo'\n",
      "c:\\users\\asus\\miniconda3\\lib\\site-packages\\pandas\\core\\indexing.py:1637: SettingWithCopyWarning: \n",
      "A value is trying to be set on a copy of a slice from a DataFrame\n",
      "\n",
      "See the caveats in the documentation: https://pandas.pydata.org/pandas-docs/stable/user_guide/indexing.html#returning-a-view-versus-a-copy\n",
      "  self._setitem_single_block(indexer, value, name)\n",
      "<ipython-input-11-4722efc15cd7>:11: SettingWithCopyWarning: \n",
      "A value is trying to be set on a copy of a slice from a DataFrame\n",
      "\n",
      "See the caveats in the documentation: https://pandas.pydata.org/pandas-docs/stable/user_guide/indexing.html#returning-a-view-versus-a-copy\n",
      "  data.Stars[i] = 2\n",
      "<ipython-input-11-4722efc15cd7>:3: SettingWithCopyWarning: \n",
      "A value is trying to be set on a copy of a slice from a DataFrame\n",
      "\n",
      "See the caveats in the documentation: https://pandas.pydata.org/pandas-docs/stable/user_guide/indexing.html#returning-a-view-versus-a-copy\n",
      "  data.Calif[i] = 'Positivo'\n",
      "<ipython-input-11-4722efc15cd7>:4: SettingWithCopyWarning: \n",
      "A value is trying to be set on a copy of a slice from a DataFrame\n",
      "\n",
      "See the caveats in the documentation: https://pandas.pydata.org/pandas-docs/stable/user_guide/indexing.html#returning-a-view-versus-a-copy\n",
      "  data.Stars[i] = 3\n",
      "<ipython-input-11-4722efc15cd7>:6: SettingWithCopyWarning: \n",
      "A value is trying to be set on a copy of a slice from a DataFrame\n",
      "\n",
      "See the caveats in the documentation: https://pandas.pydata.org/pandas-docs/stable/user_guide/indexing.html#returning-a-view-versus-a-copy\n",
      "  data.Stars[i] = 4\n",
      "<ipython-input-11-4722efc15cd7>:13: SettingWithCopyWarning: \n",
      "A value is trying to be set on a copy of a slice from a DataFrame\n",
      "\n",
      "See the caveats in the documentation: https://pandas.pydata.org/pandas-docs/stable/user_guide/indexing.html#returning-a-view-versus-a-copy\n",
      "  data.Stars[i] = 1\n"
     ]
    }
   ],
   "source": [
    "for i in range(len(data)):\n",
    "    if (data.polarity[i]>0.2):\n",
    "        data.Calif[i] = 'Positivo'\n",
    "        data.Stars[i] = 3\n",
    "        if (data.polarity[i]>0.3):\n",
    "            data.Stars[i] = 4\n",
    "        elif (data.polarity[i]>0.4):\n",
    "            data.Stars[i] = 5\n",
    "    else:\n",
    "        data.Calif[i] = 'Negativo'\n",
    "        data.Stars[i] = 2\n",
    "        if (data.polarity[i]<0):\n",
    "            data.Stars[i] = 1    "
   ]
  },
  {
   "cell_type": "code",
   "execution_count": 12,
   "id": "offshore-attitude",
   "metadata": {},
   "outputs": [
    {
     "data": {
      "text/html": [
       "<div>\n",
       "<style scoped>\n",
       "    .dataframe tbody tr th:only-of-type {\n",
       "        vertical-align: middle;\n",
       "    }\n",
       "\n",
       "    .dataframe tbody tr th {\n",
       "        vertical-align: top;\n",
       "    }\n",
       "\n",
       "    .dataframe thead th {\n",
       "        text-align: right;\n",
       "    }\n",
       "</style>\n",
       "<table border=\"1\" class=\"dataframe\">\n",
       "  <thead>\n",
       "    <tr style=\"text-align: right;\">\n",
       "      <th></th>\n",
       "      <th>transcript</th>\n",
       "      <th>blob_en</th>\n",
       "      <th>polarity</th>\n",
       "      <th>subjectivity</th>\n",
       "      <th>Calif</th>\n",
       "      <th>Stars</th>\n",
       "    </tr>\n",
       "  </thead>\n",
       "  <tbody>\n",
       "    <tr>\n",
       "      <th>0</th>\n",
       "      <td>muy poco �til la app  presenta muchas fallas  ...</td>\n",
       "      <td>(v, e, r, y,  , u, n, h, e, l, p, f, u, l,  , ...</td>\n",
       "      <td>0.059722</td>\n",
       "      <td>0.602778</td>\n",
       "      <td>Negativo</td>\n",
       "      <td>2</td>\n",
       "    </tr>\n",
       "    <tr>\n",
       "      <th>1</th>\n",
       "      <td>buenas creo que no es necesario solicitar tant...</td>\n",
       "      <td>(g, o, o, d,  , I,  , t, h, i, n, k,  , i, t, ...</td>\n",
       "      <td>0.326000</td>\n",
       "      <td>0.476000</td>\n",
       "      <td>Positivo</td>\n",
       "      <td>4</td>\n",
       "    </tr>\n",
       "    <tr>\n",
       "      <th>2</th>\n",
       "      <td>c�mo les voy a enviar pantallazo si se cierra ...</td>\n",
       "      <td>(H, o, w,  , a, m,  , I,  , g, o, i, n, g,  , ...</td>\n",
       "      <td>0.000000</td>\n",
       "      <td>0.500000</td>\n",
       "      <td>Negativo</td>\n",
       "      <td>2</td>\n",
       "    </tr>\n",
       "    <tr>\n",
       "      <th>3</th>\n",
       "      <td>mi tel�fono  ayer se descarg� totalmente  al c...</td>\n",
       "      <td>(Y, e, s, t, e, r, d, a, y,  , m, y,  , p, h, ...</td>\n",
       "      <td>-0.100000</td>\n",
       "      <td>0.500000</td>\n",
       "      <td>Negativo</td>\n",
       "      <td>1</td>\n",
       "    </tr>\n",
       "    <tr>\n",
       "      <th>4</th>\n",
       "      <td>la verdad es muy fastidioso y complicado que s...</td>\n",
       "      <td>(T, h, e,  , t, r, u, t, h,  , i, s,  , t, h, ...</td>\n",
       "      <td>-0.316667</td>\n",
       "      <td>0.570000</td>\n",
       "      <td>Negativo</td>\n",
       "      <td>1</td>\n",
       "    </tr>\n",
       "  </tbody>\n",
       "</table>\n",
       "</div>"
      ],
      "text/plain": [
       "                                          transcript  \\\n",
       "0  muy poco �til la app  presenta muchas fallas  ...   \n",
       "1  buenas creo que no es necesario solicitar tant...   \n",
       "2  c�mo les voy a enviar pantallazo si se cierra ...   \n",
       "3  mi tel�fono  ayer se descarg� totalmente  al c...   \n",
       "4  la verdad es muy fastidioso y complicado que s...   \n",
       "\n",
       "                                             blob_en  polarity  subjectivity  \\\n",
       "0  (v, e, r, y,  , u, n, h, e, l, p, f, u, l,  , ...  0.059722      0.602778   \n",
       "1  (g, o, o, d,  , I,  , t, h, i, n, k,  , i, t, ...  0.326000      0.476000   \n",
       "2  (H, o, w,  , a, m,  , I,  , g, o, i, n, g,  , ...  0.000000      0.500000   \n",
       "3  (Y, e, s, t, e, r, d, a, y,  , m, y,  , p, h, ... -0.100000      0.500000   \n",
       "4  (T, h, e,  , t, r, u, t, h,  , i, s,  , t, h, ... -0.316667      0.570000   \n",
       "\n",
       "      Calif  Stars  \n",
       "0  Negativo      2  \n",
       "1  Positivo      4  \n",
       "2  Negativo      2  \n",
       "3  Negativo      1  \n",
       "4  Negativo      1  "
      ]
     },
     "execution_count": 12,
     "metadata": {},
     "output_type": "execute_result"
    }
   ],
   "source": [
    "data.head()"
   ]
  }
 ],
 "metadata": {
  "kernelspec": {
   "display_name": "Python 3",
   "language": "python",
   "name": "python3"
  },
  "language_info": {
   "codemirror_mode": {
    "name": "ipython",
    "version": 3
   },
   "file_extension": ".py",
   "mimetype": "text/x-python",
   "name": "python",
   "nbconvert_exporter": "python",
   "pygments_lexer": "ipython3",
   "version": "3.8.5"
  }
 },
 "nbformat": 4,
 "nbformat_minor": 5
}
